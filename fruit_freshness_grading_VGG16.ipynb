{
  "nbformat": 4,
  "nbformat_minor": 0,
  "metadata": {
    "colab": {
      "provenance": []
    },
    "kernelspec": {
      "name": "python3",
      "display_name": "Python 3"
    },
    "language_info": {
      "name": "python"
    },
    "accelerator": "GPU",
    "gpuClass": "standard"
  },
  "cells": [
    {
      "cell_type": "code",
      "source": [
        "from google.colab import drive\n",
        "drive.mount('/content/drive')"
      ],
      "metadata": {
        "id": "cLf46jfdzuDk",
        "colab": {
          "base_uri": "https://localhost:8080/"
        },
        "outputId": "7d79f8ee-7575-459c-f29f-33006328f775"
      },
      "execution_count": 1,
      "outputs": [
        {
          "output_type": "stream",
          "name": "stdout",
          "text": [
            "Mounted at /content/drive\n"
          ]
        }
      ]
    },
    {
      "cell_type": "code",
      "source": [
        "import zipfile as zf\n",
        "files=zf.ZipFile(\"/content/drive/MyDrive/yolov4/datasoot.zip\",\"r\")\n",
        "files.extractall(\"VGG16\")\n",
        "files.close()"
      ],
      "metadata": {
        "id": "x9xa8lZ23QIQ"
      },
      "execution_count": 2,
      "outputs": []
    },
    {
      "cell_type": "code",
      "execution_count": 3,
      "metadata": {
        "id": "2DTrA13v3KaS"
      },
      "outputs": [],
      "source": [
        "# importing the libraries\n",
        "import numpy as np\n",
        "import pandas as pd\n",
        "import matplotlib.pyplot as plt\n",
        "from glob import glob"
      ]
    },
    {
      "cell_type": "code",
      "source": [
        "!pip install split-folders"
      ],
      "metadata": {
        "id": "Xjnb3yEg3Oio",
        "colab": {
          "base_uri": "https://localhost:8080/"
        },
        "outputId": "78c1f08b-36ae-47b9-c35a-44605771c25b"
      },
      "execution_count": 4,
      "outputs": [
        {
          "output_type": "stream",
          "name": "stdout",
          "text": [
            "Looking in indexes: https://pypi.org/simple, https://us-python.pkg.dev/colab-wheels/public/simple/\n",
            "Collecting split-folders\n",
            "  Downloading split_folders-0.5.1-py3-none-any.whl (8.4 kB)\n",
            "Installing collected packages: split-folders\n",
            "Successfully installed split-folders-0.5.1\n"
          ]
        }
      ]
    },
    {
      "cell_type": "code",
      "source": [
        "rm -rf \"VGG16/val\""
      ],
      "metadata": {
        "id": "X8ZKnuBr0Ylt"
      },
      "execution_count": null,
      "outputs": []
    },
    {
      "cell_type": "code",
      "source": [
        "import splitfolders\n",
        "splitfolders.ratio(\"VGG16\", output=\"output\", seed=1337, ratio=(0.8, 0.2))"
      ],
      "metadata": {
        "id": "SeDTEheM3cIq",
        "colab": {
          "base_uri": "https://localhost:8080/"
        },
        "outputId": "8c7b3fcc-4dbc-4356-bd7b-ed6153b553a0"
      },
      "execution_count": 5,
      "outputs": [
        {
          "output_type": "stream",
          "name": "stderr",
          "text": [
            "Copying files: 1012 files [00:00, 3739.21 files/s]\n"
          ]
        }
      ]
    },
    {
      "cell_type": "code",
      "source": [
        "# loading the directories \n",
        "training_dir = '/content/output/train'\n",
        "validation_dir = '/content/output/val'\n",
        "test_dir = '/content/output/test'"
      ],
      "metadata": {
        "id": "e12ygQye3ef6"
      },
      "execution_count": 6,
      "outputs": []
    },
    {
      "cell_type": "code",
      "source": [
        "#for getting number of files\n",
        "image_files = glob(training_dir + '/*/*.jp*g')\n",
        "valid_image_files = glob(validation_dir + '/*/*.jp*g')"
      ],
      "metadata": {
        "id": "vIS5Nanm3hjy"
      },
      "execution_count": 7,
      "outputs": []
    },
    {
      "cell_type": "code",
      "source": [
        "# getting the number of classes \n",
        "folders = glob(training_dir + '/*')\n",
        "num_classes = len(folders)\n",
        "print ('Total Classes = ' + str(num_classes))"
      ],
      "metadata": {
        "id": "iuyedjDk3jSy",
        "colab": {
          "base_uri": "https://localhost:8080/"
        },
        "outputId": "c761e944-b194-4431-e75e-4865a9b97373"
      },
      "execution_count": 8,
      "outputs": [
        {
          "output_type": "stream",
          "name": "stdout",
          "text": [
            "Total Classes = 4\n"
          ]
        }
      ]
    },
    {
      "cell_type": "code",
      "source": [
        "# importing the libraries\n",
        "from keras.models import Model\n",
        "from keras.layers import Flatten, Dense\n",
        "from keras import applications\n",
        "from tensorflow.keras.applications import  VGG16\n",
        "\n",
        "\n",
        "IMAGE_SIZE = [64, 64] \n",
        "vgg = VGG16(input_shape = IMAGE_SIZE + [3], weights = 'imagenet', include_top = False)  \n",
        "for layer in vgg.layers:\n",
        "    layer.trainable = False\n",
        "\n",
        "x = Flatten()(vgg.output)\n",
        "#x = Dense(128, activation = 'relu')(x)  \n",
        "x = Dense(num_classes, activation = 'softmax')(x) \n",
        "\n",
        "model = Model(inputs = vgg.input, outputs = x)\n",
        "\n",
        "model.compile(loss='categorical_crossentropy', optimizer='adam', metrics=['accuracy'])\n",
        "#test_loss, test_acc =   model.evaluate()"
      ],
      "metadata": {
        "id": "kj7xdSgt3rI-",
        "colab": {
          "base_uri": "https://localhost:8080/"
        },
        "outputId": "abfbfc41-8b2e-4b45-8a51-4ea5daf58e03"
      },
      "execution_count": 9,
      "outputs": [
        {
          "output_type": "stream",
          "name": "stdout",
          "text": [
            "Downloading data from https://storage.googleapis.com/tensorflow/keras-applications/vgg16/vgg16_weights_tf_dim_ordering_tf_kernels_notop.h5\n",
            "58892288/58889256 [==============================] - 0s 0us/step\n",
            "58900480/58889256 [==============================] - 0s 0us/step\n"
          ]
        }
      ]
    },
    {
      "cell_type": "code",
      "source": [
        "model.summary()"
      ],
      "metadata": {
        "id": "EaWwK-3h3tQm",
        "colab": {
          "base_uri": "https://localhost:8080/"
        },
        "outputId": "9c8dfb37-d495-492f-8ad3-bea1519d3842"
      },
      "execution_count": 10,
      "outputs": [
        {
          "output_type": "stream",
          "name": "stdout",
          "text": [
            "Model: \"model\"\n",
            "_________________________________________________________________\n",
            " Layer (type)                Output Shape              Param #   \n",
            "=================================================================\n",
            " input_1 (InputLayer)        [(None, 64, 64, 3)]       0         \n",
            "                                                                 \n",
            " block1_conv1 (Conv2D)       (None, 64, 64, 64)        1792      \n",
            "                                                                 \n",
            " block1_conv2 (Conv2D)       (None, 64, 64, 64)        36928     \n",
            "                                                                 \n",
            " block1_pool (MaxPooling2D)  (None, 32, 32, 64)        0         \n",
            "                                                                 \n",
            " block2_conv1 (Conv2D)       (None, 32, 32, 128)       73856     \n",
            "                                                                 \n",
            " block2_conv2 (Conv2D)       (None, 32, 32, 128)       147584    \n",
            "                                                                 \n",
            " block2_pool (MaxPooling2D)  (None, 16, 16, 128)       0         \n",
            "                                                                 \n",
            " block3_conv1 (Conv2D)       (None, 16, 16, 256)       295168    \n",
            "                                                                 \n",
            " block3_conv2 (Conv2D)       (None, 16, 16, 256)       590080    \n",
            "                                                                 \n",
            " block3_conv3 (Conv2D)       (None, 16, 16, 256)       590080    \n",
            "                                                                 \n",
            " block3_pool (MaxPooling2D)  (None, 8, 8, 256)         0         \n",
            "                                                                 \n",
            " block4_conv1 (Conv2D)       (None, 8, 8, 512)         1180160   \n",
            "                                                                 \n",
            " block4_conv2 (Conv2D)       (None, 8, 8, 512)         2359808   \n",
            "                                                                 \n",
            " block4_conv3 (Conv2D)       (None, 8, 8, 512)         2359808   \n",
            "                                                                 \n",
            " block4_pool (MaxPooling2D)  (None, 4, 4, 512)         0         \n",
            "                                                                 \n",
            " block5_conv1 (Conv2D)       (None, 4, 4, 512)         2359808   \n",
            "                                                                 \n",
            " block5_conv2 (Conv2D)       (None, 4, 4, 512)         2359808   \n",
            "                                                                 \n",
            " block5_conv3 (Conv2D)       (None, 4, 4, 512)         2359808   \n",
            "                                                                 \n",
            " block5_pool (MaxPooling2D)  (None, 2, 2, 512)         0         \n",
            "                                                                 \n",
            " flatten (Flatten)           (None, 2048)              0         \n",
            "                                                                 \n",
            " dense (Dense)               (None, 4)                 8196      \n",
            "                                                                 \n",
            "=================================================================\n",
            "Total params: 14,722,884\n",
            "Trainable params: 8,196\n",
            "Non-trainable params: 14,714,688\n",
            "_________________________________________________________________\n"
          ]
        }
      ]
    },
    {
      "cell_type": "code",
      "source": [
        "import tensorflow as tf\n",
        "\n",
        "tf.keras.utils.plot_model(model, show_shapes=True, show_layer_activations=True, show_dtype=True, show_layer_names= True, to_file= 'model.png', dpi=90)"
      ],
      "metadata": {
        "id": "Q3a-G_1mr74q"
      },
      "execution_count": null,
      "outputs": []
    },
    {
      "cell_type": "code",
      "source": [
        "# Image Augmentation\n",
        "\n",
        "from keras.preprocessing.image import ImageDataGenerator\n",
        "from keras.applications.vgg16 import preprocess_input\n",
        "\n",
        "training_datagen = ImageDataGenerator(\n",
        "                                    rescale=1./255,   \n",
        "                                    shear_range=0.2, \n",
        "                                    zoom_range=0.2,rotation_range=20,\n",
        "                                    horizontal_flip=True,\n",
        "                                    preprocessing_function=preprocess_input)\n",
        "\n",
        "validation_datagen = ImageDataGenerator(rescale = 1./255, preprocessing_function=preprocess_input)\n",
        "\n",
        "training_generator = training_datagen.flow_from_directory(training_dir, target_size = IMAGE_SIZE, batch_size = 32, class_mode = 'categorical')\n",
        "validation_generator = validation_datagen.flow_from_directory(validation_dir, target_size = IMAGE_SIZE, batch_size = 32, class_mode = 'categorical')"
      ],
      "metadata": {
        "id": "1lM9ugcH3wLG",
        "colab": {
          "base_uri": "https://localhost:8080/"
        },
        "outputId": "44b932b0-029a-4fcf-8445-78e5ad50d5cb"
      },
      "execution_count": 12,
      "outputs": [
        {
          "output_type": "stream",
          "name": "stdout",
          "text": [
            "Found 808 images belonging to 4 classes.\n",
            "Found 204 images belonging to 4 classes.\n"
          ]
        }
      ]
    },
    {
      "cell_type": "code",
      "source": [
        "training_generator.class_indices"
      ],
      "metadata": {
        "id": "crYWqdvm3wzu",
        "colab": {
          "base_uri": "https://localhost:8080/"
        },
        "outputId": "b12db3a2-cd2a-40b9-b78f-5ccfbcd9ed53"
      },
      "execution_count": 13,
      "outputs": [
        {
          "output_type": "execute_result",
          "data": {
            "text/plain": [
              "{'apple': 0, 'banana': 1, 'rotten_apple': 2, 'rotten_banana': 3}"
            ]
          },
          "metadata": {},
          "execution_count": 13
        }
      ]
    },
    {
      "cell_type": "code",
      "source": [
        "batch_size = 32\n",
        "history = model.fit(training_generator,\n",
        "                   steps_per_epoch = (808/batch_size),  \n",
        "                   epochs = 50,  \n",
        "                   validation_data = validation_generator,\n",
        "                   validation_steps = (204/batch_size))  #\n",
        "\n",
        "                 "
      ],
      "metadata": {
        "id": "JrgQBcyo33mJ",
        "colab": {
          "base_uri": "https://localhost:8080/"
        },
        "outputId": "69f48825-1b08-44e7-e16a-bfd8694c458c"
      },
      "execution_count": 14,
      "outputs": [
        {
          "output_type": "stream",
          "name": "stdout",
          "text": [
            "Epoch 1/50\n",
            "25/25 [==============================] - 19s 228ms/step - loss: 0.9264 - accuracy: 0.6844 - val_loss: 0.4682 - val_accuracy: 0.8725\n",
            "Epoch 2/50\n",
            "25/25 [==============================] - 5s 184ms/step - loss: 0.3777 - accuracy: 0.8861 - val_loss: 0.2854 - val_accuracy: 0.9167\n",
            "Epoch 3/50\n",
            "25/25 [==============================] - 5s 183ms/step - loss: 0.2602 - accuracy: 0.9257 - val_loss: 0.2380 - val_accuracy: 0.9118\n",
            "Epoch 4/50\n",
            "25/25 [==============================] - 5s 183ms/step - loss: 0.2150 - accuracy: 0.9394 - val_loss: 0.1909 - val_accuracy: 0.9510\n",
            "Epoch 5/50\n",
            "25/25 [==============================] - 5s 185ms/step - loss: 0.1936 - accuracy: 0.9505 - val_loss: 0.1623 - val_accuracy: 0.9608\n",
            "Epoch 6/50\n",
            "25/25 [==============================] - 5s 184ms/step - loss: 0.1717 - accuracy: 0.9517 - val_loss: 0.1516 - val_accuracy: 0.9559\n",
            "Epoch 7/50\n",
            "25/25 [==============================] - 5s 184ms/step - loss: 0.1394 - accuracy: 0.9629 - val_loss: 0.1375 - val_accuracy: 0.9608\n",
            "Epoch 8/50\n",
            "25/25 [==============================] - 5s 184ms/step - loss: 0.1336 - accuracy: 0.9666 - val_loss: 0.1309 - val_accuracy: 0.9706\n",
            "Epoch 9/50\n",
            "25/25 [==============================] - 5s 185ms/step - loss: 0.1253 - accuracy: 0.9666 - val_loss: 0.1226 - val_accuracy: 0.9657\n",
            "Epoch 10/50\n",
            "25/25 [==============================] - 5s 182ms/step - loss: 0.1206 - accuracy: 0.9678 - val_loss: 0.1166 - val_accuracy: 0.9706\n",
            "Epoch 11/50\n",
            "25/25 [==============================] - 5s 183ms/step - loss: 0.1106 - accuracy: 0.9653 - val_loss: 0.1072 - val_accuracy: 0.9706\n",
            "Epoch 12/50\n",
            "25/25 [==============================] - 5s 184ms/step - loss: 0.1102 - accuracy: 0.9691 - val_loss: 0.1046 - val_accuracy: 0.9706\n",
            "Epoch 13/50\n",
            "25/25 [==============================] - 5s 185ms/step - loss: 0.0997 - accuracy: 0.9752 - val_loss: 0.1024 - val_accuracy: 0.9608\n",
            "Epoch 14/50\n",
            "25/25 [==============================] - 5s 184ms/step - loss: 0.1023 - accuracy: 0.9752 - val_loss: 0.1081 - val_accuracy: 0.9559\n",
            "Epoch 15/50\n",
            "25/25 [==============================] - 5s 185ms/step - loss: 0.0980 - accuracy: 0.9678 - val_loss: 0.0928 - val_accuracy: 0.9755\n",
            "Epoch 16/50\n",
            "25/25 [==============================] - 5s 183ms/step - loss: 0.0900 - accuracy: 0.9740 - val_loss: 0.0933 - val_accuracy: 0.9755\n",
            "Epoch 17/50\n",
            "25/25 [==============================] - 5s 184ms/step - loss: 0.0892 - accuracy: 0.9777 - val_loss: 0.0982 - val_accuracy: 0.9657\n",
            "Epoch 18/50\n",
            "25/25 [==============================] - 6s 227ms/step - loss: 0.0959 - accuracy: 0.9703 - val_loss: 0.0901 - val_accuracy: 0.9755\n",
            "Epoch 19/50\n",
            "25/25 [==============================] - 5s 206ms/step - loss: 0.0844 - accuracy: 0.9765 - val_loss: 0.0820 - val_accuracy: 0.9804\n",
            "Epoch 20/50\n",
            "25/25 [==============================] - 5s 189ms/step - loss: 0.0817 - accuracy: 0.9728 - val_loss: 0.0913 - val_accuracy: 0.9706\n",
            "Epoch 21/50\n",
            "25/25 [==============================] - 5s 183ms/step - loss: 0.0762 - accuracy: 0.9827 - val_loss: 0.0790 - val_accuracy: 0.9706\n",
            "Epoch 22/50\n",
            "25/25 [==============================] - 5s 188ms/step - loss: 0.0743 - accuracy: 0.9827 - val_loss: 0.0845 - val_accuracy: 0.9755\n",
            "Epoch 23/50\n",
            "25/25 [==============================] - 5s 184ms/step - loss: 0.0732 - accuracy: 0.9839 - val_loss: 0.0846 - val_accuracy: 0.9706\n",
            "Epoch 24/50\n",
            "25/25 [==============================] - 5s 185ms/step - loss: 0.0705 - accuracy: 0.9790 - val_loss: 0.0799 - val_accuracy: 0.9853\n",
            "Epoch 25/50\n",
            "25/25 [==============================] - 5s 190ms/step - loss: 0.0727 - accuracy: 0.9777 - val_loss: 0.0805 - val_accuracy: 0.9755\n",
            "Epoch 26/50\n",
            "25/25 [==============================] - 5s 188ms/step - loss: 0.0688 - accuracy: 0.9839 - val_loss: 0.0812 - val_accuracy: 0.9804\n",
            "Epoch 27/50\n",
            "25/25 [==============================] - 5s 184ms/step - loss: 0.0600 - accuracy: 0.9876 - val_loss: 0.0770 - val_accuracy: 0.9706\n",
            "Epoch 28/50\n",
            "25/25 [==============================] - 5s 186ms/step - loss: 0.0577 - accuracy: 0.9876 - val_loss: 0.0778 - val_accuracy: 0.9804\n",
            "Epoch 29/50\n",
            "25/25 [==============================] - 5s 187ms/step - loss: 0.0645 - accuracy: 0.9839 - val_loss: 0.0798 - val_accuracy: 0.9706\n",
            "Epoch 30/50\n",
            "25/25 [==============================] - 5s 185ms/step - loss: 0.0506 - accuracy: 0.9926 - val_loss: 0.0740 - val_accuracy: 0.9755\n",
            "Epoch 31/50\n",
            "25/25 [==============================] - 5s 188ms/step - loss: 0.0532 - accuracy: 0.9889 - val_loss: 0.0720 - val_accuracy: 0.9804\n",
            "Epoch 32/50\n",
            "25/25 [==============================] - 5s 185ms/step - loss: 0.0592 - accuracy: 0.9864 - val_loss: 0.0720 - val_accuracy: 0.9804\n",
            "Epoch 33/50\n",
            "25/25 [==============================] - 5s 184ms/step - loss: 0.0562 - accuracy: 0.9876 - val_loss: 0.0720 - val_accuracy: 0.9706\n",
            "Epoch 34/50\n",
            "25/25 [==============================] - 5s 183ms/step - loss: 0.0501 - accuracy: 0.9913 - val_loss: 0.0709 - val_accuracy: 0.9804\n",
            "Epoch 35/50\n",
            "25/25 [==============================] - 5s 184ms/step - loss: 0.0634 - accuracy: 0.9827 - val_loss: 0.0694 - val_accuracy: 0.9804\n",
            "Epoch 36/50\n",
            "25/25 [==============================] - 5s 186ms/step - loss: 0.0534 - accuracy: 0.9839 - val_loss: 0.0736 - val_accuracy: 0.9804\n",
            "Epoch 37/50\n",
            "25/25 [==============================] - 6s 232ms/step - loss: 0.0430 - accuracy: 0.9938 - val_loss: 0.0680 - val_accuracy: 0.9804\n",
            "Epoch 38/50\n",
            "25/25 [==============================] - 5s 187ms/step - loss: 0.0550 - accuracy: 0.9889 - val_loss: 0.0706 - val_accuracy: 0.9804\n",
            "Epoch 39/50\n",
            "25/25 [==============================] - 5s 187ms/step - loss: 0.0462 - accuracy: 0.9901 - val_loss: 0.0668 - val_accuracy: 0.9804\n",
            "Epoch 40/50\n",
            "25/25 [==============================] - 5s 184ms/step - loss: 0.0537 - accuracy: 0.9851 - val_loss: 0.0830 - val_accuracy: 0.9706\n",
            "Epoch 41/50\n",
            "25/25 [==============================] - 5s 186ms/step - loss: 0.0475 - accuracy: 0.9901 - val_loss: 0.0756 - val_accuracy: 0.9755\n",
            "Epoch 42/50\n",
            "25/25 [==============================] - 5s 187ms/step - loss: 0.0495 - accuracy: 0.9901 - val_loss: 0.0764 - val_accuracy: 0.9755\n",
            "Epoch 43/50\n",
            "25/25 [==============================] - 5s 187ms/step - loss: 0.0465 - accuracy: 0.9889 - val_loss: 0.0685 - val_accuracy: 0.9804\n",
            "Epoch 44/50\n",
            "25/25 [==============================] - 5s 184ms/step - loss: 0.0475 - accuracy: 0.9901 - val_loss: 0.0784 - val_accuracy: 0.9755\n",
            "Epoch 45/50\n",
            "25/25 [==============================] - 5s 186ms/step - loss: 0.0502 - accuracy: 0.9864 - val_loss: 0.0623 - val_accuracy: 0.9804\n",
            "Epoch 46/50\n",
            "25/25 [==============================] - 5s 184ms/step - loss: 0.0408 - accuracy: 0.9938 - val_loss: 0.0670 - val_accuracy: 0.9755\n",
            "Epoch 47/50\n",
            "25/25 [==============================] - 5s 185ms/step - loss: 0.0407 - accuracy: 0.9926 - val_loss: 0.0745 - val_accuracy: 0.9755\n",
            "Epoch 48/50\n",
            "25/25 [==============================] - 5s 184ms/step - loss: 0.0430 - accuracy: 0.9913 - val_loss: 0.0684 - val_accuracy: 0.9804\n",
            "Epoch 49/50\n",
            "25/25 [==============================] - 5s 186ms/step - loss: 0.0422 - accuracy: 0.9913 - val_loss: 0.0685 - val_accuracy: 0.9706\n",
            "Epoch 50/50\n",
            "25/25 [==============================] - 5s 186ms/step - loss: 0.0353 - accuracy: 0.9938 - val_loss: 0.0761 - val_accuracy: 0.9706\n"
          ]
        }
      ]
    },
    {
      "cell_type": "code",
      "source": [
        "print ('Training Accuracy = ' + str(history.history['accuracy']))\n",
        "print ('Validation Accuracy = ' + str(history.history['val_accuracy']))\n"
      ],
      "metadata": {
        "id": "bZg1YI39354R",
        "colab": {
          "base_uri": "https://localhost:8080/"
        },
        "outputId": "6a34c2e4-4a85-4cca-a9b0-8e87dafdc09d"
      },
      "execution_count": null,
      "outputs": [
        {
          "output_type": "stream",
          "name": "stdout",
          "text": [
            "Training Accuracy = [0.6757425665855408, 0.9282178282737732, 0.9319307208061218, 0.9467821717262268, 0.9504950642585754, 0.9517326951026917, 0.969059407711029, 0.9628713130950928, 0.9603960514068604, 0.9702970385551453, 0.969059407711029, 0.9752475023269653, 0.9603960514068604, 0.9715346693992615, 0.969059407711029, 0.9752475023269653, 0.9801980257034302, 0.9826732873916626, 0.9764851331710815, 0.9752475023269653, 0.9826732873916626, 0.9925742745399475, 0.9801980257034302, 0.9826732873916626, 0.9814356565475464, 0.9801980257034302, 0.9863861203193665, 0.9876237511634827, 0.9814356565475464, 0.9839109182357788, 0.9814356565475464, 0.9888613820075989, 0.9876237511634827, 0.9900990128517151, 0.9851484894752502, 0.9851484894752502, 0.9888613820075989, 0.9876237511634827, 0.9900990128517151, 0.9888613820075989, 0.9938119053840637, 0.9888613820075989, 0.9876237511634827, 0.9913366436958313, 0.9938119053840637, 0.9900990128517151, 0.9925742745399475, 0.9900990128517151, 0.9888613820075989, 0.9826732873916626]\n",
            "Validation Accuracy = [0.8774510025978088, 0.906862735748291, 0.9411764740943909, 0.9558823704719543, 0.9558823704719543, 0.9607843160629272, 0.9558823704719543, 0.9754902124404907, 0.9509803652763367, 0.970588207244873, 0.9607843160629272, 0.9607843160629272, 0.9607843160629272, 0.970588207244873, 0.9754902124404907, 0.9607843160629272, 0.9656862616539001, 0.9607843160629272, 0.9852941036224365, 0.9803921580314636, 0.9803921580314636, 0.9656862616539001, 0.9656862616539001, 0.9754902124404907, 0.970588207244873, 0.970588207244873, 0.9754902124404907, 0.9803921580314636, 0.970588207244873, 0.9754902124404907, 0.9803921580314636, 0.9803921580314636, 0.9754902124404907, 0.9656862616539001, 0.9754902124404907, 0.9803921580314636, 0.9852941036224365, 0.9803921580314636, 0.9754902124404907, 0.9754902124404907, 0.970588207244873, 0.9803921580314636, 0.970588207244873, 0.9656862616539001, 0.970588207244873, 0.9656862616539001, 0.9656862616539001, 0.9656862616539001, 0.970588207244873, 0.9803921580314636]\n"
          ]
        }
      ]
    },
    {
      "cell_type": "code",
      "source": [
        "hist= history.history"
      ],
      "metadata": {
        "id": "_mX5gn30LHLw"
      },
      "execution_count": 15,
      "outputs": []
    },
    {
      "cell_type": "code",
      "source": [
        "plt.plot(hist[\"accuracy\"])\n",
        "plt.plot(hist[\"val_accuracy\"])\n",
        "plt.title(\"Accuracy plot\")\n",
        "plt.legend([\"train\",\"test\"])\n",
        "plt.xlabel(\"epoch\")\n",
        "plt.ylabel(\"accuracy\")"
      ],
      "metadata": {
        "colab": {
          "base_uri": "https://localhost:8080/",
          "height": 312
        },
        "id": "xJbnGgbtKrg3",
        "outputId": "973475d7-05e1-46d9-e42a-294296f3c0dc"
      },
      "execution_count": 16,
      "outputs": [
        {
          "output_type": "execute_result",
          "data": {
            "text/plain": [
              "Text(0, 0.5, 'accuracy')"
            ]
          },
          "metadata": {},
          "execution_count": 16
        },
        {
          "output_type": "display_data",
          "data": {
            "text/plain": [
              "<Figure size 432x288 with 1 Axes>"
            ],
            "image/png": "[encoded data removed]"
          },
          "metadata": {
            "needs_background": "light"
          }
        }
      ]
    },
    {
      "cell_type": "code",
      "source": [
        "plt.plot(hist[\"loss\"])\n",
        "plt.plot(hist[\"val_loss\"])\n",
        "plt.title(\"Accuracy loss\")\n",
        "plt.legend([\"train\",\"test\"])\n",
        "plt.xlabel(\"epoch\")\n",
        "plt.ylabel(\"loss\")"
      ],
      "metadata": {
        "colab": {
          "base_uri": "https://localhost:8080/",
          "height": 312
        },
        "id": "v1I5FHj_LdvM",
        "outputId": "6d55991c-da16-4c7e-8d02-53e50633bdf6"
      },
      "execution_count": 17,
      "outputs": [
        {
          "output_type": "execute_result",
          "data": {
            "text/plain": [
              "Text(0, 0.5, 'loss')"
            ]
          },
          "metadata": {},
          "execution_count": 17
        },
        {
          "output_type": "display_data",
          "data": {
            "text/plain": [
              "<Figure size 432x288 with 1 Axes>"
            ],
            "image/png": "[encoded data removed]"
          },
          "metadata": {
            "needs_background": "light"
          }
        }
      ]
    },
    {
      "cell_type": "code",
      "source": [
        "#from cv2 import imread\n",
        "#from google.colab.patches import cv2_imshow\n",
        "#yes_path = test_path+\"/mango/\"+os.listdir(test_path+\"/mango/\")[9]\n",
        "#path = r'https://drive.google.com/file/d/1WI9DDcsd-ZlxZGbBM4oIFXLWhQ2UsYdh/view?usp=sharing'\n",
        "\n",
        "#img = cv2.imread(path,0)\n",
        "#tumour = imread(yes_path)\n",
        "#image_resized= cv2.resize(tumour, (331 ,331))\n",
        "#image=np.expand_dims(image_resized,axis=0)\n",
        "#plt.imshow(tumour)\n",
        "#cv2.imshow(img)\n",
        "\n",
        "#%matplotlib inline\n",
        "#The line above is necesary to show Matplotlib's plots inside a Jupyter Notebook\n",
        "\n",
        "import cv2\n",
        "from skimage import io\n",
        "from matplotlib import pyplot as plt\n",
        "\n",
        "#Import image\n",
        "#image_resized= cv2.resize(\"/content/IMG_20210630_102834.jpg\",(331 ,331))\n",
        "\n",
        "image = io.imread(\"/content/kharap_apol.jpg\")\n",
        "image_resized= cv2.resize(image,(64, 64))\n",
        "image=np.expand_dims(image_resized,axis=0)\n",
        "\n",
        "#Show the image with matplotlib\n",
        "io.imshow(image_resized)\n",
        "plt.show()"
      ],
      "metadata": {
        "colab": {
          "base_uri": "https://localhost:8080/",
          "height": 297
        },
        "id": "k48giFVTMk0S",
        "outputId": "28bb4756-288d-494b-82e7-b47ddb3419b2"
      },
      "execution_count": 20,
      "outputs": [
        {
          "output_type": "display_data",
          "data": {
            "text/plain": [
              "<Figure size 432x288 with 1 Axes>"
            ],
            "image/png": "[encoded data removed]"
          },
          "metadata": {
            "needs_background": "light"
          }
        }
      ]
    },
    {
      "cell_type": "code",
      "source": [
        "pred=model.predict(image)\n",
        "\n",
        "output_class=[np.argmax(pred)]\n",
        "print(\"The predicted class is\", output_class)\n"
      ],
      "metadata": {
        "colab": {
          "base_uri": "https://localhost:8080/"
        },
        "id": "s0zkP3DLNw3P",
        "outputId": "b2a40207-81c7-42e7-aa0d-865b008fdc1d"
      },
      "execution_count": 21,
      "outputs": [
        {
          "output_type": "stream",
          "name": "stdout",
          "text": [
            "The predicted class is [2]\n"
          ]
        }
      ]
    }
  ]
}